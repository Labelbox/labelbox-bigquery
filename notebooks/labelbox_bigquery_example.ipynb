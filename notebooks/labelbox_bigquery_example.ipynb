{
  "nbformat": 4,
  "nbformat_minor": 0,
  "metadata": {
    "colab": {
      "provenance": [],
      "collapsed_sections": [
        "mP-KdutcAoJK",
        "cpq--1Yb8Nrd",
        "qCoxeWHDgR8z",
        "-2LzsXic898t",
        "BYtdFPTz9Weq"
      ]
    },
    "kernelspec": {
      "name": "python3",
      "display_name": "Python 3"
    },
    "language_info": {
      "name": "python"
    }
  },
  "cells": [
    {
      "cell_type": "code",
      "execution_count": null,
      "metadata": {
        "id": "kKeJRAX-nDt8"
      },
      "outputs": [],
      "source": [
        "!pip install labelboxbigquery -q\n",
        "import labelboxbigquery as lbbq"
      ]
    },
    {
      "cell_type": "markdown",
      "source": [
        "### Set Up Labelbox-BigQuery Client"
      ],
      "metadata": {
        "id": "mP-KdutcAoJK"
      }
    },
    {
      "cell_type": "markdown",
      "source": [
        "Create a service account key JSON file here: https://cloud.google.com/iam/docs/creating-managing-service-account-keys#creating"
      ],
      "metadata": {
        "id": "YvJZxMqH7G7J"
      }
    },
    {
      "cell_type": "code",
      "source": [
        "api_key = \"\"\n",
        "google_project_name = \"\"\n",
        "path_to_service_account_key = \"\""
      ],
      "metadata": {
        "id": "UwGsiuVun-7V"
      },
      "execution_count": null,
      "outputs": []
    },
    {
      "cell_type": "code",
      "source": [
        "# Initiate a LabelBigQuery Client\n",
        "lbbq_client = lbbq.Client(\n",
        "    lb_api_key=api_key,\n",
        "    google_project_name=google_project_name,\n",
        "    google_key=path_to_service_account_key\n",
        ")"
      ],
      "metadata": {
        "id": "tsDJpOY3nJZe"
      },
      "execution_count": null,
      "outputs": []
    },
    {
      "cell_type": "markdown",
      "source": [
        "## **Create a BigQuery Table from a Labelbox Dataset**\n",
        "\n",
        "`client.create_table_from_dataset()` will create a table from a Labelbox dataset given the following: \n",
        "\n",
        "- An existing `bq_dataset_id` (which is just `google_project_name.bq_dataset_name`)\n",
        "- A desired `bq_table_name`\n",
        "- An existing `labelbox_dataset_id` \n",
        "- An optional `metadata_index` \n",
        "  - This must be a dictionary where {key=metadata field name : value=metadata_type} \n",
        "    - `metadata_type` must be `\"string\"`, `\"enum\"`, `\"datetime\"` or `\"number\"`\n",
        "  - Each key passed in to the `metadata_index` will correspond to a column in BigQuery"
      ],
      "metadata": {
        "id": "cpq--1Yb8Nrd"
      }
    },
    {
      "cell_type": "code",
      "source": [
        "google_project_name = \"\"\n",
        "bq_dataset_name = \"\"\n",
        "bq_dataset_id = f\"{google_project_name}.{bq_dataset_name}\"\n",
        "\n",
        "bq_table_name = \"\"\n",
        "\n",
        "labelbox_dataset_id = \"\"\n",
        "lb_dataset = lbq_client.lb_client.get_dataset(labelbox_dataset_id)\n",
        "\n",
        "metadata_index = {\n",
        "    \"\" : \"\"\n",
        "}"
      ],
      "metadata": {
        "id": "jD648-eY9PnD"
      },
      "execution_count": null,
      "outputs": []
    },
    {
      "cell_type": "code",
      "source": [
        "# Create a BigQuery Table from a Labelbox Dataset\n",
        "upload_results = lbbq_client.create_table_from_dataset(\n",
        "    bq_dataset_id = bq_dataset_id,\n",
        "    bq_table_name = bq_table_name,\n",
        "    lb_dataset = lb_dataset,\n",
        "    metadata_index = metadata_index\n",
        ")"
      ],
      "metadata": {
        "id": "3JLN2bF_Veg-"
      },
      "execution_count": null,
      "outputs": []
    },
    {
      "cell_type": "code",
      "source": [
        "# # Unhash to delete data_row_id column from BQ Table\n",
        "\n",
        "# bq_table_id = f\"{google_project_name}.{bq_dataset_name}.{bq_table_name}\"\n",
        "# del_col_query=f\"\"\"ALTER TABLE {bq_table_id}\n",
        "# DROP COLUMN data_row_id;\"\"\"\n",
        "# query_job = lbbq_client.bq_client.query(del_col_query)\n",
        "# query_job.result()"
      ],
      "metadata": {
        "id": "QEeJr1fOFRes"
      },
      "execution_count": null,
      "outputs": []
    },
    {
      "cell_type": "markdown",
      "source": [
        "## **Create Labelbox Data Rows from a BigQuery Table**\n",
        "\n",
        "`client.create_data_rows_from_table()` will create Labelbox data rows given the following:\n",
        "- An existing `bq_table_id` (which is just `google_project_name.bq_dataset_name.bq_table_name`)\n",
        "- An existing `lb_dataset` object\n",
        "- A column name for your Labelbox data row `row_data`\n",
        "- An optional column name for your Labelbox data row `global_key` - defaults to `row_data`\n",
        "- An optional column name for your Labelbox data row `external_id` - defaults to `global_key`\n",
        "- An optional `metadata_index` \n",
        "  - This must be a dictionary where {key=metadata field name : value=metadata_type} \n",
        "    - `metadata_type` must be `\"string\"`, `\"enum\"`, `\"datetime\"` or `\"number\"`\n",
        "  - Each key passed in to the `metadata_index` will correspond to a column in BigQuery\n",
        "- An optional `attachment_index` \n",
        "  - This must be a dictionary where {key=atachment field name : value=atachment_type} \n",
        "    - `attachment_type` must be `\"IMAGE\"`, `\"VIDEO\"`, `\"TEXT\"`, `\"HTML\"`\n",
        "  - Each key passed in to the `attachment_index` will correspond to a column in BigQuery  "
      ],
      "metadata": {
        "id": "qCoxeWHDgR8z"
      }
    },
    {
      "cell_type": "code",
      "source": [
        "# # Unhash to create a dataset\n",
        "# lb_dataset = lbbq_client.lb_client.create_dataset(name=bq_table_name)"
      ],
      "metadata": {
        "id": "GNhxFN-nFkO8"
      },
      "execution_count": null,
      "outputs": []
    },
    {
      "cell_type": "code",
      "source": [
        "google_project_name = \"\"\n",
        "bq_dataset_name = \"\"\n",
        "bq_table_name = \"\"\n",
        "bq_table_id = f\"{google_project_name}.{bq_dataset_name}.{bq_table_name}\"\n",
        "\n",
        "labelbox_dataset_id = lb_dataset.uid\n",
        "lb_dataset = lbq_client.lb_client.get_dataset(labelbox_dataset_id)\n",
        "\n",
        "global_key_column = \"\"\n",
        "row_data_column = \"\"\n",
        "external_id_column = \"\"\n",
        "\n",
        "metadata_index = {\n",
        "    \"\" : \"\"\n",
        "}\n",
        "\n",
        "attachment_index = {\n",
        "    \"\" : \"\"\n",
        "}"
      ],
      "metadata": {
        "id": "9phCCdcS-z7y"
      },
      "execution_count": null,
      "outputs": []
    },
    {
      "cell_type": "code",
      "source": [
        "# Create Labelbox Data Rows from a BigQuery Table\n",
        "upload_results = lbbq_client.create_data_rows_from_table(\n",
        "    bq_table_id=bq_table_id,\n",
        "    row_data_col=row_data_column, \n",
        "    lb_dataset=lb_dataset, \n",
        "    global_key_col=global_key_column,\n",
        "    external_id_col=external_id_column, \n",
        "    metadata_index=metadata_index,\n",
        "    attachment_index=attachment_index,\n",
        "    skip_duplicates=True\n",
        ")"
      ],
      "metadata": {
        "id": "cd78P2vudpLG"
      },
      "execution_count": null,
      "outputs": []
    },
    {
      "cell_type": "markdown",
      "source": [
        "## **Upsert BigQuery Table Values with the Labelbox Metadata**"
      ],
      "metadata": {
        "id": "-2LzsXic898t"
      }
    },
    {
      "cell_type": "markdown",
      "source": [
        "`client.upsert_table_metadata()` will upsert a BigQuery table based on most recent metadata from Labelbox given the following:\n",
        "- An existing `bq_table_id` (which is just `google_project_name.bq_dataset_name.bq_table_name`)\n",
        "- An existing `lb_dataset` object\n",
        "- A column name for your Labelbox data row `global_key`\n",
        "- A `metadata_index` where each key is a column you're looking to update in BigQuery\n",
        "  - This must be a dictionary where {key=metadata field name : value=metadata type} \n",
        "    - `metadata_type` must be `\"string\"`, `\"enum\"`, `\"datetime\"` or `\"number\"`\n",
        "  - Each key passed in to the `metadata index` will correspond to a column in BigQuery"
      ],
      "metadata": {
        "id": "tEzXtwN4hCNr"
      }
    },
    {
      "cell_type": "code",
      "source": [
        "google_project_name = \"\"\n",
        "bq_dataset_name = \"\"\n",
        "bq_table_name = \"\"\n",
        "bq_table_id = f\"{google_project_name}.{bq_dataset_name}.{bq_table_name}\"\n",
        "\n",
        "labelbox_dataset_id = lb_dataset.uid\n",
        "lb_dataset = lbq_client.lb_client.get_dataset(labelbox_dataset_id)\n",
        "\n",
        "global_key_column = \"\"\n",
        "\n",
        "metadata_index = {\n",
        "    \"\" : \"\"\n",
        "}"
      ],
      "metadata": {
        "id": "oVx7xp9IAHvs"
      },
      "execution_count": null,
      "outputs": []
    },
    {
      "cell_type": "code",
      "source": [
        "results = lbbq_client.upsert_table_metadata(\n",
        "    bq_table_id = bq_table_id,\n",
        "    lb_dataset = lbq_client.lb_client.get_dataset(labelbox_dataset_id),\n",
        "    global_key_col = global_key_column,\n",
        "    metadata_index = metadata_index\n",
        ")"
      ],
      "metadata": {
        "id": "PS-OdYWONXBz"
      },
      "execution_count": null,
      "outputs": []
    },
    {
      "cell_type": "markdown",
      "source": [
        "## **Upsert Labelbox Metadata Values with BigQuery column data**\n",
        "\n",
        "client.upsert_labelbox_metadata() will upsert Labelbox metadata based on most recent column values from BigQuery given the following:\n",
        "\n",
        "- An existing `bq_table_id` (which is just `google_project_name.bq_dataset_name.bq_table_name`)\n",
        "- A list of `global_keys` that correspond to data rows to-be-upserted\n",
        "- A column name for your Labelbox data row `global_key`\n",
        "- A `metadata_index` where each key is a metadata field you're looking to upsert in Labelbox\n",
        "  - This must be a dictionary where {key=metadata field name : value=metadata type} \n",
        "    - `metadata_type` must be `\"string\"`, `\"enum\"`, `\"datetime\"` or `\"number\"`\n",
        "  - Each key passed in to the `metadata index` will correspond to a column in BigQuery"
      ],
      "metadata": {
        "id": "BYtdFPTz9Weq"
      }
    },
    {
      "cell_type": "code",
      "source": [
        "google_project_name = \"\"\n",
        "bq_dataset_name = \"\"\n",
        "bq_table_name = \"\"\n",
        "bq_table_id = f\"{google_project_name}.{bq_dataset_name}.{bq_table_name}\"\n",
        "\n",
        "global_keys_list = []\n",
        "\n",
        "global_key_column = \"\"\n",
        "\n",
        "metadata_index = {\n",
        "    \"\" : \"\"\n",
        "}"
      ],
      "metadata": {
        "id": "O4vTcCgN9_ao"
      },
      "execution_count": null,
      "outputs": []
    },
    {
      "cell_type": "code",
      "source": [
        "results = lbbq_client.upsert_labelbox_metadata(\n",
        "    bq_table_id = bq_table_id,\n",
        "    global_key_col = global_key_column,\n",
        "    global_keys_list = global_keys_list, # Will take all global keys from table if False\n",
        "    metadata_index = metadata_index\n",
        ")"
      ],
      "metadata": {
        "id": "lpo_WuC4-DrF"
      },
      "execution_count": null,
      "outputs": []
    }
  ]
}
